{
 "cells": [
  {
   "cell_type": "code",
   "execution_count": 2,
   "metadata": {},
   "outputs": [],
   "source": [
    "from selenium import webdriver\n",
    "from selenium.webdriver.common.by import By"
   ]
  },
  {
   "cell_type": "code",
   "execution_count": 1,
   "metadata": {},
   "outputs": [
    {
     "name": "stdout",
     "output_type": "stream",
     "text": [
      "Collecting seleniumNote: you may need to restart the kernel to use updated packages.\n",
      "\n",
      "  Using cached selenium-4.28.1-py3-none-any.whl (9.5 MB)\n",
      "Collecting certifi>=2021.10.8\n",
      "  Using cached certifi-2024.12.14-py3-none-any.whl (164 kB)\n",
      "Collecting trio~=0.17\n",
      "  Using cached trio-0.28.0-py3-none-any.whl (486 kB)\n",
      "Collecting urllib3[socks]<3,>=1.26\n",
      "  Using cached urllib3-2.3.0-py3-none-any.whl (128 kB)\n",
      "Collecting websocket-client~=1.8\n",
      "  Using cached websocket_client-1.8.0-py3-none-any.whl (58 kB)\n",
      "Requirement already satisfied: typing_extensions~=4.9 in c:\\users\\user\\appdata\\roaming\\python\\python310\\site-packages (from selenium) (4.12.2)\n",
      "Collecting trio-websocket~=0.9\n",
      "  Using cached trio_websocket-0.11.1-py3-none-any.whl (17 kB)\n",
      "Collecting outcome\n",
      "  Using cached outcome-1.3.0.post0-py2.py3-none-any.whl (10 kB)\n",
      "Collecting cffi>=1.14\n",
      "  Using cached cffi-1.17.1-cp310-cp310-win_amd64.whl (181 kB)\n",
      "Collecting sortedcontainers\n",
      "  Using cached sortedcontainers-2.4.0-py2.py3-none-any.whl (29 kB)\n",
      "Collecting attrs>=23.2.0\n",
      "  Using cached attrs-24.3.0-py3-none-any.whl (63 kB)\n",
      "Collecting idna\n",
      "  Using cached idna-3.10-py3-none-any.whl (70 kB)\n",
      "Requirement already satisfied: exceptiongroup in c:\\users\\user\\appdata\\roaming\\python\\python310\\site-packages (from trio~=0.17->selenium) (1.2.2)\n",
      "Collecting sniffio>=1.3.0\n",
      "  Using cached sniffio-1.3.1-py3-none-any.whl (10 kB)\n",
      "Collecting pycparser\n",
      "  Using cached pycparser-2.22-py3-none-any.whl (117 kB)\n",
      "Collecting wsproto>=0.14\n",
      "  Using cached wsproto-1.2.0-py3-none-any.whl (24 kB)\n",
      "Collecting pysocks!=1.5.7,<2.0,>=1.5.6\n",
      "  Using cached PySocks-1.7.1-py3-none-any.whl (16 kB)\n",
      "Collecting h11<1,>=0.9.0\n",
      "  Using cached h11-0.14.0-py3-none-any.whl (58 kB)\n",
      "Installing collected packages: pycparser, attrs, sortedcontainers, sniffio, outcome, idna, h11, cffi, wsproto, urllib3, trio, pysocks, websocket-client, trio-websocket, certifi, selenium\n",
      "Successfully installed attrs-24.3.0 certifi-2024.12.14 cffi-1.17.1 h11-0.14.0 idna-3.10 outcome-1.3.0.post0 pycparser-2.22 pysocks-1.7.1 selenium-4.28.1 sniffio-1.3.1 sortedcontainers-2.4.0 trio-0.28.0 trio-websocket-0.11.1 urllib3-2.3.0 websocket-client-1.8.0 wsproto-1.2.0\n"
     ]
    },
    {
     "name": "stderr",
     "output_type": "stream",
     "text": [
      "  WARNING: The script wsdump.exe is installed in 'c:\\Users\\USER\\AppData\\Local\\Programs\\Python\\Python310\\Scripts' which is not on PATH.\n",
      "  Consider adding this directory to PATH or, if you prefer to suppress this warning, use --no-warn-script-location.\n",
      "WARNING: You are using pip version 21.2.3; however, version 24.3.1 is available.\n",
      "You should consider upgrading via the 'c:\\Users\\USER\\AppData\\Local\\Programs\\Python\\Python310\\python.exe -m pip install --upgrade pip' command.\n"
     ]
    }
   ],
   "source": [
    "pip install selenium"
   ]
  },
  {
   "cell_type": "code",
   "execution_count": 10,
   "metadata": {},
   "outputs": [],
   "source": [
    "import time\n",
    "driver = webdriver.Chrome()\n",
    "driver.get('https://www.google.com/');\n",
    "time.sleep(5)\n",
    "searchbox=driver.find_element(By.CLASS_NAME,'gLFyf')\n",
    "searchbox.send_keys('Guvi')\n",
    "searchbox.submit()"
   ]
  },
  {
   "cell_type": "code",
   "execution_count": null,
   "metadata": {},
   "outputs": [],
   "source": [
    "driver = webdriver.Chrome()\n",
    "driver.get('https://www.cardekho.com/used-cars+in+chennai');\n",
    "time.sleep(5)\n",
    "searchbox=driver.find_element(By.CLASS_NAME,'gLFyf')\n",
    "searchbox.send_keys('Guvi')\n",
    "searchbox.submit()"
   ]
  },
  {
   "cell_type": "code",
   "execution_count": null,
   "metadata": {},
   "outputs": [
    {
     "name": "stdout",
     "output_type": "stream",
     "text": [
      "7 PHOTOS\n",
      "Registration Year\n",
      "Insurance\n",
      "Fuel Type\n",
      "Seats\n",
      "Kms Driven\n",
      "RTO\n",
      "Ownership\n",
      "Engine Displacement\n",
      "Transmission\n",
      "Year of Manufacture\n",
      "Engine\n",
      "Power\n",
      "Seating Capacity\n",
      "Mileage\n",
      "Fuel\n",
      "No. of Airbags\n",
      "Buy Bundle Now\n",
      "More Details\n",
      "Read More\n",
      "Buy Now\n",
      "Read More\n",
      "Buy Now\n",
      "Read More\n",
      "Buy Now\n",
      "2022\n",
      "Expired\n",
      "Diesel\n",
      "6 Seats\n",
      "20,000 Kms\n",
      "Chennai\n",
      "First Owner\n",
      "1493 cc\n",
      "Automatic\n",
      "2022\n",
      "Powered Front Seats\n",
      "Ventilated Seats\n",
      "Height Adjustable Driver Seat\n",
      "Air Purifier\n",
      "Automatic Climate Control\n",
      "Drive Modes\n",
      "Cruise Control\n",
      "360 Degree Camera\n",
      "1493 cc\n",
      "113.98 bhp\n",
      "7\n",
      "18.1 kmpl\n",
      "Diesel\n",
      "6\n"
     ]
    }
   ],
   "source": [
    "from selenium import webdriver\n",
    "from selenium.webdriver.common.by import By\n",
    "from selenium.webdriver.support.ui import WebDriverWait\n",
    "from selenium.webdriver.support import expected_conditions as EC\n",
    "import time\n",
    "# Initialize WebDriver\n",
    "driver = webdriver.Chrome()\n",
    "driver.get(\"https://www.cardekho.com/used-car-details/used-Hyundai-alcazar-signature-o-diesel-at-bsvi-cars-Chennai_0dd2181a-7696-44c1-8bac-43b30c90dc07.htm?adId=undefined&adType=41\")\n",
    "time.sleep(10)\n",
    "import json\n",
    "try:\n",
    "    \n",
    "    Reglbl = driver.find_elements(By.CLASS_NAME,'label')\n",
    "    Regval = driver.find_elements(By.CLASS_NAME,'value-text')\n",
    "    \n",
    "\n",
    "    \n",
    "    for match in Reglbl:\n",
    "        print(match.text)\n",
    "    for match in Regval:\n",
    "       print(match.text)\n",
    "\n",
    "    with open(\"data.json\", \"w\") as json_file:\n",
    "        json.dump(data, json_file, indent=4)\n",
    "\n",
    "finally:\n",
    "    driver.quit()"
   ]
  },
  {
   "cell_type": "code",
   "execution_count": 27,
   "metadata": {},
   "outputs": [
    {
     "name": "stdout",
     "output_type": "stream",
     "text": [
      "Data successfully saved as CSV files!\n"
     ]
    }
   ],
   "source": [
    "from selenium import webdriver\n",
    "from selenium.webdriver.common.by import By\n",
    "import time\n",
    "import json\n",
    "import csv\n",
    "\n",
    "# Initialize WebDriver\n",
    "driver = webdriver.Chrome()\n",
    "driver.get(\"https://www.cardekho.com/used-car-details/used-Hyundai-alcazar-signature-o-diesel-at-bsvi-cars-Chennai_0dd2181a-7696-44c1-8bac-43b30c90dc07.htm?adId=undefined&adType=41\")\n",
    "time.sleep(10)  # Let the page load completely\n",
    "\n",
    "try:\n",
    "    # Scrape labels and values\n",
    "    Reglbl = driver.find_elements(By.CSS_SELECTOR, 'div.label')  # All labels\n",
    "    Regval = driver.find_elements(By.CSS_SELECTOR, 'span.value-text')  # Corresponding values\n",
    "\n",
    "    # Combine labels and values into a dictionary\n",
    "    data = {}\n",
    "    for label, value in zip(Reglbl, Regval):\n",
    "        data[label.text] = value.text  # Create key-value pairs\n",
    "\n",
    "\n",
    "    # Save to CSV\n",
    "    with open(\"data.csv\", \"w\", newline='') as csv_file:\n",
    "        writer = csv.writer(csv_file)\n",
    "        writer.writerow([\"Label\", \"Value\"])  # Header row\n",
    "        for key, value in data.items():\n",
    "            writer.writerow([key, value])  # Write each key-value pair\n",
    "\n",
    "    print(\"Data successfully saved as CSV files!\")\n",
    "\n",
    "finally:\n",
    "    driver.quit()\n"
   ]
  }
 ],
 "metadata": {
  "kernelspec": {
   "display_name": "Python 3",
   "language": "python",
   "name": "python3"
  },
  "language_info": {
   "codemirror_mode": {
    "name": "ipython",
    "version": 3
   },
   "file_extension": ".py",
   "mimetype": "text/x-python",
   "name": "python",
   "nbconvert_exporter": "python",
   "pygments_lexer": "ipython3",
   "version": "3.10.0rc2"
  }
 },
 "nbformat": 4,
 "nbformat_minor": 2
}
